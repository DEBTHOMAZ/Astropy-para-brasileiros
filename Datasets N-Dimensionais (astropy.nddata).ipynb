{
 "cells": [
  {
   "cell_type": "markdown",
   "metadata": {},
   "source": [
    "# Datasets N-Dimensionais (astropy.nddata)\n",
    "\n",
    "De acordo com o site da Astropy¹, a sub-biblioteca astropy.nddata \"fornece classes para representar imagens e outros dados em grade\", além de possibilitar manipulá-las e muito mais. Veremos a seguir como fazer isso na prática.\n",
    "\n",
    "### NDData\n",
    "\n",
    "O objetivo principal do pacote NDData é guardar dados e metadados. Vamos inicialmente criar uma matriz em três dimensões, parecida com a terceira da figura abaixo:\n",
    "\n",
    "<img src=\"2-arrays.png\" width=50% >\n",
    "\n",
    "_Imagem disponível em: < https://towardsdatascience.com/numpy-array-cookbook-generating-and-manipulating-arrays-in-python-2195c3988b09 >._"
   ]
  },
  {
   "cell_type": "code",
   "execution_count": 1,
   "metadata": {},
   "outputs": [
    {
     "name": "stdout",
     "output_type": "stream",
     "text": [
      "[[[0. 0.]\n",
      "  [0. 0.]\n",
      "  [0. 0.]]\n",
      "\n",
      " [[0. 0.]\n",
      "  [0. 0.]\n",
      "  [0. 0.]]\n",
      "\n",
      " [[0. 0.]\n",
      "  [0. 0.]\n",
      "  [0. 0.]]]\n",
      "<class 'astropy.nddata.nddata.NDData'>\n"
     ]
    }
   ],
   "source": [
    "import numpy as np\n",
    "from astropy.nddata import NDData\n",
    "array = np.zeros((3, 3, 2))  # Uma matriz tridimensional como a da figura, mas com 0 em cada posição\n",
    "ndd1 = NDData(array)\n",
    "print(ndd1)\n",
    "print(type(ndd1))"
   ]
  },
  {
   "cell_type": "code",
   "execution_count": 6,
   "metadata": {},
   "outputs": [
    {
     "data": {
      "text/plain": [
       "NDData([[ 1,  2,  3,  4],\n",
       "        [ 5,  6,  7,  8],\n",
       "        [ 9, 10, 11, 12]])"
      ]
     },
     "execution_count": 6,
     "metadata": {},
     "output_type": "execute_result"
    }
   ],
   "source": [
    "#Podemos criar também dessa forma:\n",
    "\n",
    "ndd2 = NDData([[1, 2, 3, 4],[5, 6, 7, 8], [9, 10, 11, 12]])\n",
    "ndd2"
   ]
  },
  {
   "cell_type": "markdown",
   "metadata": {},
   "source": [
    "É possível também a matriz no formato array do numpy, seria algo como o \"inverso\" do que fizemos anteriormente:"
   ]
  },
  {
   "cell_type": "code",
   "execution_count": 8,
   "metadata": {},
   "outputs": [
    {
     "name": "stdout",
     "output_type": "stream",
     "text": [
      "[[ 1  2  3  4]\n",
      " [ 5  6  7  8]\n",
      " [ 9 10 11 12]]\n",
      "<class 'numpy.ndarray'>\n"
     ]
    }
   ],
   "source": [
    "print(ndd2.data)\n",
    "print(type(ndd2.data))"
   ]
  },
  {
   "cell_type": "markdown",
   "metadata": {},
   "source": [
    "Mas pense só, se fosse apenas isso, não faria sentido trabalhar com NDData. Então qual a vantagem de trabalhar com NDData e não com as matrizes numpy convencionais?\\\n",
    "A vantagem é que ele suporta propriedades adicionais, como $unit$ (unidade), $mask$, $wcs$ (World Coordinate System), $uncertainty$ (incertezas ou desvio padrão) e $meta$ (atributos adicionais). Vejamos:"
   ]
  },
  {
   "cell_type": "code",
   "execution_count": 16,
   "metadata": {},
   "outputs": [
    {
     "name": "stdout",
     "output_type": "stream",
     "text": [
      "[False False  True  True]\n",
      "{'object': 'fictional data.'}\n"
     ]
    },
    {
     "data": {
      "text/plain": [
       "NDData([1, 2, 3, 4])"
      ]
     },
     "execution_count": 16,
     "metadata": {},
     "output_type": "execute_result"
    }
   ],
   "source": [
    "from astropy.nddata import StdDevUncertainty\n",
    "\n",
    "data = np.array([1,2,3,4])\n",
    "mask = data > 2 #gera uma lista assim: [False False True True], indicando quais pontos são válidos ou não.\n",
    "\n",
    "unit = 'erg / s'\n",
    "uncertainty = StdDevUncertainty(np.sqrt(data)) # Calculando o desvio padrão\n",
    "meta = {'object': 'fictional data.'}\n",
    "\n",
    "ndd = NDData(data, mask=mask, unit=unit, uncertainty=uncertainty, meta=meta)\n",
    "ndd"
   ]
  },
  {
   "cell_type": "code",
   "execution_count": 17,
   "metadata": {},
   "outputs": [],
   "source": [
    "#Para saber mais e entender melhor os parâmetros:\n",
    "NDData?"
   ]
  },
  {
   "cell_type": "code",
   "execution_count": null,
   "metadata": {},
   "outputs": [],
   "source": []
  },
  {
   "cell_type": "code",
   "execution_count": null,
   "metadata": {},
   "outputs": [],
   "source": []
  },
  {
   "cell_type": "markdown",
   "metadata": {},
   "source": [
    "Fontes do texto:\\\n",
    "1 - ASTROPY. \"N-Dimensional Datasets (astropy.nddata)\". Disponível em: < https://docs.astropy.org/en/stable/nddata/index.html >. Acesso em: 22 de novembro de 2020."
   ]
  },
  {
   "cell_type": "markdown",
   "metadata": {},
   "source": [
    "Fontes do código:\\\n",
    "ASTROPY. \"N-Dimensional Datasets (astropy.nddata)\". Disponível em: < https://docs.astropy.org/en/stable/nddata/index.html >. Acesso em: 22 de novembro de 2020."
   ]
  }
 ],
 "metadata": {
  "kernelspec": {
   "display_name": "Python 3",
   "language": "python",
   "name": "python3"
  },
  "language_info": {
   "codemirror_mode": {
    "name": "ipython",
    "version": 3
   },
   "file_extension": ".py",
   "mimetype": "text/x-python",
   "name": "python",
   "nbconvert_exporter": "python",
   "pygments_lexer": "ipython3",
   "version": "3.7.3"
  }
 },
 "nbformat": 4,
 "nbformat_minor": 2
}
