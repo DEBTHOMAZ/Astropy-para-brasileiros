{
 "cells": [
  {
   "cell_type": "markdown",
   "metadata": {},
   "source": [
    "# As constantes de Astropy\n",
    "\n",
    "_O objetivo desses documentos é proporcionar um material de programação de astropy ao público brasileiro iniciante. A fonte do código é dos desenvolvedores do Astropy e encontra-se no final deste notebook._\n",
    "\n",
    "\n",
    "Umas das coisas interessantes na biblioteca Astropy é a disponibilidade para acessar consantes muito usadas na Física e Astronomia.\n",
    "Por exemplo, vamos lembrar da fórmula da força gravitacional:\n",
    "\n",
    "\\begin{equation}\n",
    "F = G\\frac{M_1M_2}{r^2}\n",
    "\\end{equation}\n",
    "\n",
    "Em que $M_1$ é a massa do objeto 1, $M_2$ a massa do objeto 2, $r$ a distância entre os dois corpos e $G$ a constante gravitacional.\n",
    "Vamos então calcular a Força Gravitacional entre a Terra e a Lua. Teremos que $M_{Terra} = 6 x 10^{24} kg$ e $M_{Lua} = 7 x 10^{22} kg$. A distância entre a Terra e a lua é de 384.400 km.\\\n",
    "Usaremos a biblioteca constants para obter a constante G e utilizaremos a biblioteca units para fornecer as unidades aos outros dados.\n"
   ]
  },
  {
   "cell_type": "code",
   "execution_count": 20,
   "metadata": {},
   "outputs": [
    {
     "name": "stdout",
     "output_type": "stream",
     "text": [
      "  Name   = Gravitational constant\n",
      "  Value  = 6.67408e-11\n",
      "  Uncertainty  = 3.1e-15\n",
      "  Unit  = m3 / (kg s2)\n",
      "  Reference = CODATA 2014\n"
     ]
    }
   ],
   "source": [
    "from astropy.constants import G\n",
    "from astropy import units as u\n",
    "print(G)"
   ]
  },
  {
   "cell_type": "code",
   "execution_count": 21,
   "metadata": {},
   "outputs": [
    {
     "name": "stdout",
     "output_type": "stream",
     "text": [
      "F =  1.8970288710272968e+20 kg m / s2\n"
     ]
    }
   ],
   "source": [
    "MT = 6e24 * u.kg\n",
    "ML = 7e22 * u.kg\n",
    "r = 384400e3 * u.m\n",
    "F = G*MT*ML/(r**2)\n",
    "print('F = ', F)"
   ]
  },
  {
   "cell_type": "markdown",
   "metadata": {},
   "source": [
    "A força calculada ($F \\approx 2 x 10^{20}$) é coerente com o que se encontra na literatura¹."
   ]
  },
  {
   "cell_type": "code",
   "execution_count": 22,
   "metadata": {},
   "outputs": [
    {
     "name": "stdout",
     "output_type": "stream",
     "text": [
      "  Name   = Gravitational constant\n",
      "  Value  = 6.67408e-11\n",
      "  Uncertainty  = 3.1e-15\n",
      "  Unit  = m3 / (kg s2)\n",
      "  Reference = CODATA 2014\n"
     ]
    }
   ],
   "source": [
    "#É possível obter a constante também desta forma:\n",
    "from astropy import constants as const\n",
    "print(const.G)"
   ]
  },
  {
   "cell_type": "markdown",
   "metadata": {},
   "source": [
    "Mas e se quisermos a constante (ou valor achado) em outra unidade? Simples, utilizaremos \"valor\".to(u.\"unidade\")."
   ]
  },
  {
   "cell_type": "code",
   "execution_count": 23,
   "metadata": {},
   "outputs": [
    {
     "data": {
      "text/latex": [
       "$1.8970289 \\times 10^{20} \\; \\mathrm{N}$"
      ],
      "text/plain": [
       "<Quantity 1.89702887e+20 N>"
      ]
     },
     "execution_count": 23,
     "metadata": {},
     "output_type": "execute_result"
    }
   ],
   "source": [
    "F.to(u.N)"
   ]
  },
  {
   "cell_type": "markdown",
   "metadata": {},
   "source": [
    "Abaixo é possível ver as constantes disponíveis, seus valores, suas unidades e suas descrições (respectivamente):\n",
    "\n",
    "G - 6.6743e-11 - m3 / (kg s2) - Constante Gravitacional\n",
    "\n",
    "N_A - 6.02214076e+23 - 1 / (mol) - Número de Avogadro\n",
    "\n",
    "R - 8.31446262 - J / (K mol) - Constante de Gas\n",
    "\n",
    "Ryd - 10973731.6 - 1 / (m) - Constane de Rydberg\n",
    "\n",
    "a0 - 5.29177211e-11 - m -Raio de Bohr\n",
    "\n",
    "alpha - 0.00729735257 - Fine-structure constant\n",
    "\n",
    "atm - 101325 - Pa - Atmosfera padrão\n",
    "\n",
    "b_wien - 0.00289777196 - m K - Constante da lei de deslocamento do comprimento de onda de Wien\n",
    "\n",
    "c - 299792458 - m / (s) - Velocidade da luz no vácuo\n",
    "\n",
    "e - 1.60217663e-19 - C - Carga de elétron\n",
    "\n",
    "eps0 - 8.85418781e-12 - F/m - Permissividade elétrica do Vácuo\n",
    "\n",
    "g0 - 9.80665 - m / s2 - Aceleração da gravidade\n",
    "\n",
    "h - 6.62607015e-34 - J s - Constante de Planck\n",
    "\n",
    "hbar - 1.05457182e-34 - J s - Constante de Planck reduzida\n",
    "\n",
    "k_B - 1.380649e-23 - J / (K) - Constante de Boltzmann\n",
    "\n",
    "m_e - 9.1093837e-31 - kg - Massa do Elétron\n",
    "\n",
    "m_n - 1.6749275e-27 - kg - Massa do Neutron\n",
    "\n",
    "m_p - 1.67262192e-27 - kg - Massa do Próton\n",
    "\n",
    "mu0 - 1.25663706e-06 - N/A2 - Permissividade Magnética do Vácuo\n",
    "\n",
    "muB - 9.27401008e-24 - J/T - Bohr magneton\n",
    "\n",
    "sigma_T - 6.65245873e-29 - m2 - Thomson scattering cross-section\n",
    "\n",
    "sigma_sb - 5.67037442e-08 - W / (K4 m2) - Constante de Stefan-Boltzmann\n",
    "\n",
    "u - 1.66053907e-27 kg - Massa Atômica\t\n",
    "\n",
    "GM_earth - 3.986004e+14 - m3 / (s2) - Parâmetro de massa nominal da terra\n",
    "\n",
    "GM_jup - 1.2668653e+17 - m3 / (s2) - Parâmetro de massa nominal de Júpiter\n",
    "\n",
    "GM_sun - 1.3271244e+20 - m3 / (s2) - Parâmetro de massa Solar\n",
    "\n",
    "L_bol0 - 3.0128e+28 - W - Luminosidade para magnitude bolométrica absoluta 0\n",
    "\n",
    "L_sun - 3.828e+26 - W - Luminosidade solar nominal\n",
    "\n",
    "M_earth - 5.97216787e+24 - kg - Massa da Terra\n",
    "\n",
    "M_jup - 1.8981246e+27 - kg - Massa de Júpiter\n",
    "\n",
    "M_sun - 1.98840987e+30 - kg - Massa do Sol\n",
    "\n",
    "R_earth - 6378100 - m - Raio equatorial nominal da Terra\n",
    "\n",
    "R_jup - 71492000 - m - Raio equatorial nominal de Júpiter\n",
    "\n",
    "R_sun - 695700000 - m - Raio nominal Solar\n",
    "\n",
    "au - 1.49597871e+11 - m - Unidade Astronômica\n",
    "\n",
    "kpc - 3.08567758e+19 - m - Kiloparsec\n",
    "\n",
    "pc - 3.08567758e+16 - m - Parsec"
   ]
  },
  {
   "cell_type": "markdown",
   "metadata": {},
   "source": [
    "# Focando em astropy.units\n",
    "\n",
    "Ao focar nesta biblioteca, iremos ver algumas das propriedades das variáveis definidas com a ajuda da biblioteca astropy.units, além de aplicá-la em listas maiores. Para isso, vamos relembrar a \"3º Lei de Kepler\"."
   ]
  },
  {
   "cell_type": "markdown",
   "metadata": {},
   "source": [
    "## 3° Lei de Kepler - a Lei Harmônica\n",
    "\n",
    "De acordo com essa lei, _\"o quadrado do período de um planeta é proporcional ao cubo de sua distância média ao Sol\"_ ². Ou seja:\n",
    "\n",
    "\\begin{equation}\n",
    "\\frac{P^2}{a^3}=k\n",
    "\\end{equation}\n",
    "\n",
    "Em que P é o período do corpo em questão e a é o eixo maior da sua órbita elíptica.\n",
    "Tentaremos, através dessa expressão, calcular o valor da constante K para os objetos do nosso sistema solar. Para isso, usaremos a _units_ do astropy, as matrizes do _numpy_ e a tabela de dados abaixo.\n",
    "<img src=\"tabela1-periodo-e-raio.png\" width=50% >\n",
    "_Imagem disponível em: < http://www.if.ufrgs.br/tex/fis01043/20022/FranciscoK/kepler.htm >._"
   ]
  },
  {
   "cell_type": "code",
   "execution_count": 1,
   "metadata": {},
   "outputs": [],
   "source": [
    "import numpy as np\n",
    "from astropy import units as u"
   ]
  },
  {
   "cell_type": "code",
   "execution_count": 11,
   "metadata": {},
   "outputs": [
    {
     "name": "stdout",
     "output_type": "stream",
     "text": [
      "[0.387 0.723 1.    1.524 5.203 9.534] ua\n",
      "[ 0.241  0.615  1.     1.881 11.862 29.456] yr\n"
     ]
    }
   ],
   "source": [
    "#Definimos a matriz através de np.array e deixamos todos os elementos de uma matriz com as mesmas unidades\n",
    "a = np.array([0.387, 0.723, 1., 1.524, 5.203, 9.534]) * u.ua \n",
    "P = np.array([0.241, 0.615,1.,1.881,11.862,29.456]) * u.year\n",
    "print(a)\n",
    "print(P)"
   ]
  },
  {
   "cell_type": "code",
   "execution_count": 14,
   "metadata": {},
   "outputs": [
    {
     "name": "stdout",
     "output_type": "stream",
     "text": [
      "[1.00207722 1.00077245 1.         0.99959181 0.99897441 1.0012029 ] yr2 / ua3\n"
     ]
    }
   ],
   "source": [
    "#Vamos definir uma função equivalente à equação anterior\n",
    "def lei3(Periodo,eixo):\n",
    "    return (Periodo**2)/eixo**3\n",
    "\n",
    "k = lei3(P,a)\n",
    "print(k)"
   ]
  },
  {
   "cell_type": "markdown",
   "metadata": {},
   "source": [
    "Veja que os valores são muito próximos de 1 em todos os casos!"
   ]
  },
  {
   "cell_type": "markdown",
   "metadata": {},
   "source": [
    "Podemos, ainda, obter apenas o valor numérico sem a unidade de medida e vice-versa:"
   ]
  },
  {
   "cell_type": "code",
   "execution_count": 19,
   "metadata": {},
   "outputs": [
    {
     "name": "stdout",
     "output_type": "stream",
     "text": [
      "Valores:  [1.00207722 1.00077245 1.         0.99959181 0.99897441 1.0012029 ]\n",
      "Unidade:  yr2 / ua3\n"
     ]
    }
   ],
   "source": [
    "print('Valores: ', k.value)\n",
    "print('Unidade: ', k.unit)"
   ]
  },
  {
   "cell_type": "markdown",
   "metadata": {},
   "source": [
    "## Utilizando .decompose()\n",
    "\n",
    "Este artifício nos ajudará a normalizar a unidade de uma variável sem precisar converter cada valor unicamente. Veja o exemplo abaixo:/\n",
    "\n",
    "A velocidade em função do tempo pode ser definida como:\n",
    "\n",
    "\\begin{equation}\n",
    "S = S_0 + Vt\n",
    "\\end{equation}\n",
    "\n",
    "Em que $t$ é o tempo, $V$ a velocidade constante, $S$ o deslocamento e $S_0$ o ponto inicial. Supondo que $S_0$ é igual a 0, qual o tempo necessário para que uma partícula com uma velocidade de $5.67 m/s$ percorra $2.3451 km$?"
   ]
  },
  {
   "cell_type": "code",
   "execution_count": 26,
   "metadata": {},
   "outputs": [
    {
     "name": "stdout",
     "output_type": "stream",
     "text": [
      "0.4135978835978836 km s / m\n"
     ]
    }
   ],
   "source": [
    "#Vamos primeiramente definir as variáveis:\n",
    "V = 5.67 * (u.meter/u.second)\n",
    "S = 2.3451 * u.kilometer\n",
    "t = S/V\n",
    "print(t)"
   ]
  },
  {
   "cell_type": "markdown",
   "metadata": {},
   "source": [
    "Repare que o nosso t não está em segundos. Para isso, basta usar o .decompose() e a nossa variável estará normalizada."
   ]
  },
  {
   "cell_type": "code",
   "execution_count": 29,
   "metadata": {},
   "outputs": [
    {
     "name": "stdout",
     "output_type": "stream",
     "text": [
      "413.5978835978836 s\n"
     ]
    }
   ],
   "source": [
    "print(t.decompose())"
   ]
  },
  {
   "cell_type": "markdown",
   "metadata": {},
   "source": [
    "### Sistemas de unidades"
   ]
  },
  {
   "cell_type": "markdown",
   "metadata": {},
   "source": [
    "Caso deseja usar unidades imperiais, você poderá utilizar o comando abaixo:"
   ]
  },
  {
   "cell_type": "code",
   "execution_count": 32,
   "metadata": {},
   "outputs": [],
   "source": [
    "from astropy.units import imperial"
   ]
  },
  {
   "cell_type": "markdown",
   "metadata": {},
   "source": [
    "Você pode ainda passar os valores para o sistema CGS facilmente. Sistema CGS de unidades é um sistema de unidades de medidas físicas, cujas unidades-base são o centímetro para o comprimento, o grama para a massa e o segundo para o tempo."
   ]
  },
  {
   "cell_type": "code",
   "execution_count": 33,
   "metadata": {},
   "outputs": [
    {
     "name": "stdout",
     "output_type": "stream",
     "text": [
      "567.0 cm / s\n"
     ]
    }
   ],
   "source": [
    "print(V.cgs) #Vamos testar com a velocidade do exemplo anterior, em m/s."
   ]
  },
  {
   "cell_type": "markdown",
   "metadata": {},
   "source": [
    "Você poderá ver uma lista com todas as unidades da biblioteca units e informações extes na segunda Fonte disponível abaixo. "
   ]
  },
  {
   "cell_type": "markdown",
   "metadata": {},
   "source": [
    "# Referências"
   ]
  },
  {
   "cell_type": "markdown",
   "metadata": {},
   "source": [
    "Fonte do código:\\\n",
    "ASTROPY. \"Constants (astropy.constants)\". Disponível em: < https://docs.astropy.org/en/stable/constants/index.html >. Acesso em: 18 de novembro de 2020.\\\n",
    "ASTROPY. \"Units and Quantities (astropy.units)\". Disponível em: < https://docs.astropy.org/en/stable/units/index.html >. Acesso em: 20 de novembro de 2020."
   ]
  },
  {
   "cell_type": "markdown",
   "metadata": {},
   "source": [
    "Fontes do texto:\n",
    "\n",
    "NETO, Gastão B. L. \"Porque o Sol não arranca a Lua da Terra?\". IAG/USP, maio de 2020. Disponível em: < http://www.astro.iag.usp.br/~gastao/PlanetasEstrelas/separaTerraLuaSol.html >. Acesso em: 18 de novembro de 2020.\\\n",
    "Gregorio-Hetem & Jatenco-Pereira. \"Capítulo 1 - MECÂNICA DO SISTEMA SOLAR\". Observatórios Virtuais. Disponível em: < http://www.astro.iag.usp.br/~jane/aga215/apostila/cap01.pdf >. Acesso em: 20 de novembro de 2020."
   ]
  },
  {
   "cell_type": "code",
   "execution_count": null,
   "metadata": {},
   "outputs": [],
   "source": []
  }
 ],
 "metadata": {
  "kernelspec": {
   "display_name": "Python 3",
   "language": "python",
   "name": "python3"
  },
  "language_info": {
   "codemirror_mode": {
    "name": "ipython",
    "version": 3
   },
   "file_extension": ".py",
   "mimetype": "text/x-python",
   "name": "python",
   "nbconvert_exporter": "python",
   "pygments_lexer": "ipython3",
   "version": "3.7.3"
  }
 },
 "nbformat": 4,
 "nbformat_minor": 2
}
